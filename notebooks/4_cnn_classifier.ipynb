{
 "cells": [
  {
   "cell_type": "code",
   "execution_count": 5,
   "metadata": {},
   "outputs": [],
   "source": [
    "import tensorflow.keras\n",
    "from tensorflow.keras.models import Sequential\n",
    "from tensorflow.keras.layers import Conv2D, MaxPooling2D, Flatten, Dense, Dropout\n",
    "from tensorflow.keras.preprocessing.image import ImageDataGenerator, array_to_img, img_to_array, load_img"
   ]
  },
  {
   "cell_type": "code",
   "execution_count": 55,
   "metadata": {},
   "outputs": [
    {
     "name": "stdout",
     "output_type": "stream",
     "text": [
      "Found 4000 images belonging to 2 classes.\n",
      "Found 1000 images belonging to 2 classes.\n",
      "Found 1000 images belonging to 2 classes.\n"
     ]
    }
   ],
   "source": [
    "train_datagen = ImageDataGenerator(rescale = 1./255,\n",
    "                                   zoom_range=[0.5, 1.5],\n",
    "                                   validation_split=0.2)\n",
    "\n",
    "valid_datagen = ImageDataGenerator(rescale=1./255, \n",
    "                                   validation_split=0.2)\n",
    "\n",
    "test_datagen = ImageDataGenerator(rescale = 1./255)\n",
    "\n",
    "training_set = train_datagen.flow_from_directory(\"../data/processed/train\",\n",
    "                                                 target_size = (64, 64),\n",
    "                                                 color_mode=\"grayscale\",\n",
    "                                                 batch_size = 32,\n",
    "                                                 class_mode = \"binary\",\n",
    "                                                 shuffle=True,\n",
    "                                                 subset=\"training\")\n",
    "\n",
    "valid_set = train_datagen.flow_from_directory(\"../data/processed/train\",\n",
    "                                              target_size = (64, 64),\n",
    "                                              color_mode=\"grayscale\",\n",
    "                                              batch_size = 32,\n",
    "                                              class_mode = \"binary\",\n",
    "                                              shuffle=False,\n",
    "                                              subset=\"validation\")\n",
    "\n",
    "test_set = test_datagen.flow_from_directory(\"../data/processed/test\",\n",
    "                                            target_size = (64, 64),\n",
    "                                            color_mode=\"grayscale\",\n",
    "                                            class_mode = \"binary\",\n",
    "                                            batch_size=32)"
   ]
  },
  {
   "cell_type": "code",
   "execution_count": 30,
   "metadata": {},
   "outputs": [
    {
     "data": {
      "text/plain": [
       "{'mario': 0, 'wario': 1}"
      ]
     },
     "execution_count": 30,
     "metadata": {},
     "output_type": "execute_result"
    }
   ],
   "source": [
    "labels_index = { 0 : \"mario\", 1 : \"wario\" }\n",
    "training_set.class_indices"
   ]
  },
  {
   "cell_type": "code",
   "execution_count": 31,
   "metadata": {},
   "outputs": [
    {
     "name": "stdout",
     "output_type": "stream",
     "text": [
      "Model: \"sequential_4\"\n",
      "_________________________________________________________________\n",
      " Layer (type)                Output Shape              Param #   \n",
      "=================================================================\n",
      " conv2d_12 (Conv2D)          (None, 62, 62, 32)        320       \n",
      "                                                                 \n",
      " max_pooling2d_12 (MaxPoolin  (None, 31, 31, 32)       0         \n",
      " g2D)                                                            \n",
      "                                                                 \n",
      " conv2d_13 (Conv2D)          (None, 29, 29, 32)        9248      \n",
      "                                                                 \n",
      " max_pooling2d_13 (MaxPoolin  (None, 14, 14, 32)       0         \n",
      " g2D)                                                            \n",
      "                                                                 \n",
      " conv2d_14 (Conv2D)          (None, 12, 12, 64)        18496     \n",
      "                                                                 \n",
      " max_pooling2d_14 (MaxPoolin  (None, 6, 6, 64)         0         \n",
      " g2D)                                                            \n",
      "                                                                 \n",
      " flatten_4 (Flatten)         (None, 2304)              0         \n",
      "                                                                 \n",
      " dense_8 (Dense)             (None, 64)                147520    \n",
      "                                                                 \n",
      " dropout_4 (Dropout)         (None, 64)                0         \n",
      "                                                                 \n",
      " dense_9 (Dense)             (None, 1)                 65        \n",
      "                                                                 \n",
      "=================================================================\n",
      "Total params: 175,649\n",
      "Trainable params: 175,649\n",
      "Non-trainable params: 0\n",
      "_________________________________________________________________\n"
     ]
    }
   ],
   "source": [
    "# Initialising \n",
    "cnn_classifier = Sequential()\n",
    "\n",
    "# 1st conv. layer\n",
    "cnn_classifier.add(Conv2D(32, (3, 3), input_shape = (64, 64, 1), activation = 'relu'))\n",
    "cnn_classifier.add(MaxPooling2D(pool_size = (2, 2)))\n",
    "\n",
    "# 2nd conv. layer\n",
    "cnn_classifier.add(Conv2D(32, (3, 3), activation = 'relu')) #no need to specify the input shape\n",
    "cnn_classifier.add(MaxPooling2D(pool_size = (2, 2)))\n",
    "\n",
    "# 3nd conv. layer\n",
    "cnn_classifier.add(Conv2D(64, (3, 3), activation = 'relu')) #no need to specify the input shape\n",
    "cnn_classifier.add(MaxPooling2D(pool_size = (2, 2)))\n",
    "\n",
    "# Flattening\n",
    "cnn_classifier.add(Flatten())\n",
    "\n",
    "# Full connection\n",
    "cnn_classifier.add(Dense(units = 64, activation = 'relu'))\n",
    "cnn_classifier.add(Dropout(0.5)) # quite aggresive dropout, maybe reduce\n",
    "cnn_classifier.add(Dense(units = 1, activation = 'sigmoid'))\n",
    "\n",
    "cnn_classifier.summary()\n"
   ]
  },
  {
   "cell_type": "code",
   "execution_count": 35,
   "metadata": {},
   "outputs": [],
   "source": [
    "cnn_classifier.compile(optimizer = tensorflow.keras.optimizers.Adam(learning_rate=0.001),\n",
    "                       loss = \"binary_crossentropy\", \n",
    "                       metrics = [\"accuracy\"])"
   ]
  },
  {
   "cell_type": "code",
   "execution_count": 36,
   "metadata": {},
   "outputs": [
    {
     "name": "stdout",
     "output_type": "stream",
     "text": [
      "Epoch 1/10\n",
      "125/125 [==============================] - 6s 46ms/step - loss: 0.2729 - accuracy: 0.8905 - val_loss: 0.2849 - val_accuracy: 0.8760\n",
      "Epoch 2/10\n",
      "125/125 [==============================] - 5s 43ms/step - loss: 0.2676 - accuracy: 0.8898 - val_loss: 0.2504 - val_accuracy: 0.9080\n",
      "Epoch 3/10\n",
      "125/125 [==============================] - 5s 39ms/step - loss: 0.2387 - accuracy: 0.9055 - val_loss: 0.2487 - val_accuracy: 0.8830\n",
      "Epoch 4/10\n",
      "125/125 [==============================] - 5s 38ms/step - loss: 0.2378 - accuracy: 0.9047 - val_loss: 0.2598 - val_accuracy: 0.8850\n",
      "Epoch 5/10\n",
      "125/125 [==============================] - 5s 38ms/step - loss: 0.2210 - accuracy: 0.9120 - val_loss: 0.3876 - val_accuracy: 0.8300\n",
      "Epoch 6/10\n",
      "125/125 [==============================] - 5s 38ms/step - loss: 0.2034 - accuracy: 0.9193 - val_loss: 0.2476 - val_accuracy: 0.8970\n",
      "Epoch 7/10\n",
      "125/125 [==============================] - 5s 38ms/step - loss: 0.1811 - accuracy: 0.9355 - val_loss: 0.2519 - val_accuracy: 0.8940\n",
      "Epoch 8/10\n",
      "125/125 [==============================] - 5s 38ms/step - loss: 0.1725 - accuracy: 0.9345 - val_loss: 0.1745 - val_accuracy: 0.9310\n",
      "Epoch 9/10\n",
      "125/125 [==============================] - 5s 38ms/step - loss: 0.1733 - accuracy: 0.9320 - val_loss: 0.2590 - val_accuracy: 0.9030\n",
      "Epoch 10/10\n",
      "125/125 [==============================] - 5s 38ms/step - loss: 0.1595 - accuracy: 0.9385 - val_loss: 0.1964 - val_accuracy: 0.9220\n"
     ]
    },
    {
     "data": {
      "text/plain": [
       "<keras.callbacks.History at 0x14f2581f0>"
      ]
     },
     "execution_count": 36,
     "metadata": {},
     "output_type": "execute_result"
    }
   ],
   "source": [
    "cnn_classifier.fit(training_set,\n",
    "                   validation_data=valid_set,\n",
    "                   epochs = 10)"
   ]
  },
  {
   "cell_type": "code",
   "execution_count": 64,
   "metadata": {},
   "outputs": [
    {
     "name": "stdout",
     "output_type": "stream",
     "text": [
      "32/32 [==============================] - 1s 27ms/step - loss: 0.6837 - accuracy: 0.7900\n"
     ]
    },
    {
     "data": {
      "text/plain": [
       "{'loss': 0.6837417483329773, 'accuracy': 0.7900000214576721}"
      ]
     },
     "execution_count": 64,
     "metadata": {},
     "output_type": "execute_result"
    }
   ],
   "source": [
    "cnn_classifier.evaluate(test_set, return_dict=True)"
   ]
  },
  {
   "cell_type": "code",
   "execution_count": 62,
   "metadata": {},
   "outputs": [
    {
     "data": {
      "text/plain": [
       "1024"
      ]
     },
     "execution_count": 62,
     "metadata": {},
     "output_type": "execute_result"
    }
   ],
   "source": [
    "32 * 32"
   ]
  },
  {
   "cell_type": "code",
   "execution_count": 53,
   "metadata": {},
   "outputs": [
    {
     "data": {
      "text/plain": [
       "<keras.preprocessing.image.DirectoryIterator at 0x13d4e8d30>"
      ]
     },
     "execution_count": 53,
     "metadata": {},
     "output_type": "execute_result"
    }
   ],
   "source": [
    "test_set"
   ]
  },
  {
   "cell_type": "code",
   "execution_count": null,
   "metadata": {},
   "outputs": [],
   "source": [
    "    "
   ]
  }
 ],
 "metadata": {
  "interpreter": {
   "hash": "ba38e66c2b5de7a8521c6ab75ffee2e5f7bd318dd20e796af171331ca48be724"
  },
  "kernelspec": {
   "display_name": "Python 3.10.4 ('mario')",
   "language": "python",
   "name": "python3"
  },
  "language_info": {
   "codemirror_mode": {
    "name": "ipython",
    "version": 3
   },
   "file_extension": ".py",
   "mimetype": "text/x-python",
   "name": "python",
   "nbconvert_exporter": "python",
   "pygments_lexer": "ipython3",
   "version": "3.10.4"
  },
  "orig_nbformat": 4
 },
 "nbformat": 4,
 "nbformat_minor": 2
}
