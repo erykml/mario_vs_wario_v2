{
 "cells": [
  {
   "cell_type": "markdown",
   "metadata": {},
   "source": [
    "# 1. Downloading the longplay videos"
   ]
  },
  {
   "cell_type": "markdown",
   "metadata": {},
   "source": [
    "The videos will be the source of the images for the project."
   ]
  },
  {
   "cell_type": "markdown",
   "metadata": {},
   "source": [
    "## Setup"
   ]
  },
  {
   "cell_type": "code",
   "execution_count": 1,
   "metadata": {},
   "outputs": [],
   "source": [
    "from pytube import YouTube"
   ]
  },
  {
   "cell_type": "markdown",
   "metadata": {},
   "source": [
    "## Video #1: Mario"
   ]
  },
  {
   "cell_type": "code",
   "execution_count": 2,
   "metadata": {},
   "outputs": [],
   "source": [
    "mario_video = YouTube(\"https://www.youtube.com/watch?v=lXMJt5PP3kM\")"
   ]
  },
  {
   "cell_type": "code",
   "execution_count": 3,
   "metadata": {},
   "outputs": [
    {
     "name": "stdout",
     "output_type": "stream",
     "text": [
      "Title: Game Boy Longplay [005] Super Mario Land 2: 6 Golden Coins ----\n",
      "<Stream: itag=\"18\" mime_type=\"video/mp4\" res=\"360p\" fps=\"30fps\" vcodec=\"avc1.42001E\" acodec=\"mp4a.40.2\" progressive=\"True\" type=\"video\">\n",
      "<Stream: itag=\"133\" mime_type=\"video/mp4\" res=\"240p\" fps=\"30fps\" vcodec=\"avc1.4d400b\" progressive=\"False\" type=\"video\">\n",
      "<Stream: itag=\"160\" mime_type=\"video/mp4\" res=\"144p\" fps=\"30fps\" vcodec=\"avc1.4d400b\" progressive=\"False\" type=\"video\">\n",
      "<Stream: itag=\"139\" mime_type=\"audio/mp4\" abr=\"48kbps\" acodec=\"mp4a.40.5\" progressive=\"False\" type=\"audio\">\n",
      "<Stream: itag=\"140\" mime_type=\"audio/mp4\" abr=\"128kbps\" acodec=\"mp4a.40.2\" progressive=\"False\" type=\"audio\">\n"
     ]
    },
    {
     "name": "stderr",
     "output_type": "stream",
     "text": [
      "/var/folders/jg/42cx8xxn6_s1kcdc594gmf_w0000gn/T/ipykernel_1461/3012493935.py:2: DeprecationWarning: Call to deprecated function all (This object can be treated as a list, all() is useless).\n",
      "  stream = mario_video.streams.filter(file_extension = \"mp4\").all()\n"
     ]
    }
   ],
   "source": [
    "print(f\"Title: {mario_video.title} ----\")\n",
    "stream = mario_video.streams.filter(file_extension = \"mp4\").all()\n",
    "for i in stream:\n",
    "    print(i)"
   ]
  },
  {
   "cell_type": "code",
   "execution_count": 4,
   "metadata": {},
   "outputs": [
    {
     "data": {
      "text/plain": [
       "'/Users/eryk/Documents/eryk/mario_vs_wario_v2/notebooks/../Data/videos/Game Boy Longplay [005] Super Mario Land 2 6 Golden Coins.mp4'"
      ]
     },
     "execution_count": 4,
     "metadata": {},
     "output_type": "execute_result"
    }
   ],
   "source": [
    "(\n",
    "    mario_video\n",
    "    .streams.filter(progressive=True, file_extension=\"mp4\")\n",
    "    .order_by(\"resolution\")\n",
    "    .desc()\n",
    "    .first()\n",
    "    .download(\"../data/videos\")\n",
    ")"
   ]
  },
  {
   "cell_type": "markdown",
   "metadata": {},
   "source": [
    "## Video #2: Wario"
   ]
  },
  {
   "cell_type": "code",
   "execution_count": 5,
   "metadata": {},
   "outputs": [
    {
     "data": {
      "text/plain": [
       "'/Users/eryk/Documents/eryk/mario_vs_wario_v2/notebooks/../data/videos/Game Boy Longplay [004] Super Mario Land 3 Wario Land.mp4'"
      ]
     },
     "execution_count": 5,
     "metadata": {},
     "output_type": "execute_result"
    }
   ],
   "source": [
    "wario_video = YouTube(\"https://www.youtube.com/watch?v=ZJuxdR0KH-s\")\n",
    "\n",
    "(\n",
    "    wario_video\n",
    "    .streams.filter(progressive=True, file_extension=\"mp4\")\n",
    "    .order_by(\"resolution\")\n",
    "    .desc()\n",
    "    .first()\n",
    "    .download(\"../data/videos\")\n",
    ")"
   ]
  }
 ],
 "metadata": {
  "interpreter": {
   "hash": "ba38e66c2b5de7a8521c6ab75ffee2e5f7bd318dd20e796af171331ca48be724"
  },
  "kernelspec": {
   "display_name": "Python 3.10.4 ('mario')",
   "language": "python",
   "name": "python3"
  },
  "language_info": {
   "codemirror_mode": {
    "name": "ipython",
    "version": 3
   },
   "file_extension": ".py",
   "mimetype": "text/x-python",
   "name": "python",
   "nbconvert_exporter": "python",
   "pygments_lexer": "ipython3",
   "version": "3.10.4"
  },
  "orig_nbformat": 4
 },
 "nbformat": 4,
 "nbformat_minor": 2
}
