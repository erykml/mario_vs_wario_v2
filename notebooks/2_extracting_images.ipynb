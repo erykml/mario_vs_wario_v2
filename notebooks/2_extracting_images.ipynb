{
 "cells": [
  {
   "cell_type": "markdown",
   "metadata": {},
   "source": [
    "# 2. Extracting the images from videos"
   ]
  },
  {
   "cell_type": "markdown",
   "metadata": {},
   "source": [
    "## Setup"
   ]
  },
  {
   "cell_type": "code",
   "execution_count": 1,
   "metadata": {},
   "outputs": [
    {
     "name": "stdout",
     "output_type": "stream",
     "text": [
      "/Users/eryk/Documents/eryk/mario_vs_wario_v2\n"
     ]
    }
   ],
   "source": [
    "import os\n",
    "os.chdir(\"..\")\n",
    "print(os.getcwd())"
   ]
  },
  {
   "cell_type": "code",
   "execution_count": 2,
   "metadata": {},
   "outputs": [],
   "source": [
    "from src.utils import FrameExtractor"
   ]
  },
  {
   "cell_type": "markdown",
   "metadata": {},
   "source": [
    "## Video #1: Mario"
   ]
  },
  {
   "cell_type": "code",
   "execution_count": 3,
   "metadata": {},
   "outputs": [],
   "source": [
    "fe = FrameExtractor(\"data/videos/Game Boy Longplay [005] Super Mario Land 2 6 Golden Coins.mp4\")"
   ]
  },
  {
   "cell_type": "code",
   "execution_count": 4,
   "metadata": {},
   "outputs": [
    {
     "name": "stdout",
     "output_type": "stream",
     "text": [
      "Duration: 1:41:29.033333\n"
     ]
    }
   ],
   "source": [
    "fe.get_video_duration()"
   ]
  },
  {
   "cell_type": "code",
   "execution_count": 6,
   "metadata": {},
   "outputs": [
    {
     "name": "stdout",
     "output_type": "stream",
     "text": [
      "Extracting every 50 (nd/rd/th) frame would result in 3654 images.\n"
     ]
    }
   ],
   "source": [
    "fe.get_n_images(every_x_frame=50)"
   ]
  },
  {
   "cell_type": "code",
   "execution_count": 7,
   "metadata": {},
   "outputs": [
    {
     "name": "stdout",
     "output_type": "stream",
     "text": [
      "Created the following directory: data/raw/mario\n"
     ]
    }
   ],
   "source": [
    "fe.extract_frames(every_x_frame=50,\n",
    "                  skip_seconds=60, \n",
    "                  img_name=\"mario\", \n",
    "                  dest_path=\"data/raw/mario\")"
   ]
  },
  {
   "cell_type": "markdown",
   "metadata": {},
   "source": [
    "## Video #2: Wario"
   ]
  },
  {
   "cell_type": "code",
   "execution_count": 10,
   "metadata": {},
   "outputs": [],
   "source": [
    "fe = FrameExtractor(\"data/videos/Game Boy Longplay [004] Super Mario Land 3 Wario Land.mp4\")"
   ]
  },
  {
   "cell_type": "code",
   "execution_count": 11,
   "metadata": {},
   "outputs": [
    {
     "name": "stdout",
     "output_type": "stream",
     "text": [
      "Duration: 2:37:09.566667\n"
     ]
    }
   ],
   "source": [
    "fe.get_video_duration()"
   ]
  },
  {
   "cell_type": "code",
   "execution_count": 12,
   "metadata": {},
   "outputs": [
    {
     "name": "stdout",
     "output_type": "stream",
     "text": [
      "Extracting every 50 (nd/rd/th) frame would result in 5658 images.\n"
     ]
    }
   ],
   "source": [
    "fe.get_n_images(every_x_frame=50)"
   ]
  },
  {
   "cell_type": "code",
   "execution_count": 13,
   "metadata": {},
   "outputs": [
    {
     "name": "stdout",
     "output_type": "stream",
     "text": [
      "Created the following directory: data/raw/wario\n"
     ]
    }
   ],
   "source": [
    "fe.extract_frames(every_x_frame=50,\n",
    "                  skip_seconds=60, \n",
    "                  img_name=\"wario\", \n",
    "                  dest_path=\"data/raw/wario\")"
   ]
  }
 ],
 "metadata": {
  "interpreter": {
   "hash": "ba38e66c2b5de7a8521c6ab75ffee2e5f7bd318dd20e796af171331ca48be724"
  },
  "kernelspec": {
   "display_name": "Python 3.10.4 ('mario')",
   "language": "python",
   "name": "python3"
  },
  "language_info": {
   "codemirror_mode": {
    "name": "ipython",
    "version": 3
   },
   "file_extension": ".py",
   "mimetype": "text/x-python",
   "name": "python",
   "nbconvert_exporter": "python",
   "pygments_lexer": "ipython3",
   "version": "3.10.4"
  },
  "orig_nbformat": 4
 },
 "nbformat": 4,
 "nbformat_minor": 2
}
